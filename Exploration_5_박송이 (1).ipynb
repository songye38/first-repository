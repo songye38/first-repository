{
 "cells": [
  {
   "cell_type": "code",
   "execution_count": 1,
   "id": "ecee3bfc",
   "metadata": {},
   "outputs": [
    {
     "name": "stdout",
     "output_type": "stream",
     "text": [
      "2.6.0\n",
      "1.21.4\n"
     ]
    }
   ],
   "source": [
    "import tensorflow as tf\n",
    "import numpy as np\n",
    "\n",
    "print(tf.__version__)\n",
    "print(np.__version__)"
   ]
  },
  {
   "cell_type": "code",
   "execution_count": 2,
   "id": "f1b8cbcf",
   "metadata": {},
   "outputs": [
    {
     "name": "stdout",
     "output_type": "stream",
     "text": [
      "PIL 라이브러리 import 완료\n"
     ]
    }
   ],
   "source": [
    "from PIL import Image\n",
    "import glob\n",
    "import os\n",
    "\n",
    "print(\"PIL 라이브러리 import 완료\")"
   ]
  },
  {
   "cell_type": "code",
   "execution_count": 24,
   "id": "b3ec8671",
   "metadata": {},
   "outputs": [],
   "source": [
    "#가위바위보 이미지 사이즈를 28 x 28로 바꾸는 함수\n",
    "\n",
    "def resize_images(img_path):\n",
    "    images = glob.glob(img_path + \"/*.jpg\")\n",
    "    print(len(images),\" images to be resized\")\n",
    "    \n",
    "    target_size = (28,28)\n",
    "    for img in images:\n",
    "        old_img = Image.open(img)\n",
    "        new_img = old_img.resize(target_size,Image.ANTIALIAS)\n",
    "        new_img.save(img,\"JPEG\")\n",
    "        \n",
    "    print(len(images),\" images resized\")"
   ]
  },
  {
   "cell_type": "code",
   "execution_count": 25,
   "id": "87f2a752",
   "metadata": {},
   "outputs": [
    {
     "name": "stdout",
     "output_type": "stream",
     "text": [
      "100  images to be resized\n",
      "100  images resized\n",
      "가위 위미지 resize complete!\n"
     ]
    }
   ],
   "source": [
    "image_dir_path = os.getenv(\"HOME\") + '/aiffel/rock_scissor_paper/scissor'\n",
    "resize_images(image_dir_path)\n",
    "\n",
    "print(\"가위 위미지 resize complete!\")"
   ]
  },
  {
   "cell_type": "code",
   "execution_count": 26,
   "id": "e6a0873a",
   "metadata": {},
   "outputs": [
    {
     "name": "stdout",
     "output_type": "stream",
     "text": [
      "100  images to be resized\n",
      "100  images resized\n",
      "돌 위미지 resize complete!\n"
     ]
    }
   ],
   "source": [
    "image_dir_path = os.getenv(\"HOME\") + '/aiffel/rock_scissor_paper/rock'\n",
    "resize_images(image_dir_path)\n",
    "\n",
    "print(\"돌 위미지 resize complete!\")"
   ]
  },
  {
   "cell_type": "code",
   "execution_count": 27,
   "id": "55b7d8bb",
   "metadata": {},
   "outputs": [
    {
     "name": "stdout",
     "output_type": "stream",
     "text": [
      "100  images to be resized\n",
      "100  images resized\n",
      "보 위미지 resize complete!\n"
     ]
    }
   ],
   "source": [
    "image_dir_path = os.getenv(\"HOME\") + '/aiffel/rock_scissor_paper/paper'\n",
    "resize_images(image_dir_path)\n",
    "\n",
    "print(\"보 위미지 resize complete!\")"
   ]
  },
  {
   "cell_type": "code",
   "execution_count": 28,
   "id": "77a971ae",
   "metadata": {},
   "outputs": [],
   "source": [
    "import numpy as np\n",
    "\n",
    "def load_data(img_path, number_of_data=300):  # 가위바위보 이미지 개수 총합에 주의하세요.\n",
    "    # 가위 : 0, 바위 : 1, 보 : 2\n",
    "    img_size=28\n",
    "    color=3\n",
    "    #이미지 데이터와 라벨(가위 : 0, 바위 : 1, 보 : 2) 데이터를 담을 행렬(matrix) 영역을 생성합니다.\n",
    "    imgs=np.zeros(number_of_data*img_size*img_size*color,dtype=np.int32).reshape(number_of_data,img_size,img_size,color)\n",
    "    labels=np.zeros(number_of_data,dtype=np.int32)\n",
    "\n",
    "    idx=0\n",
    "    for file in glob.iglob(img_path+'/scissor/*.jpg'):\n",
    "        img = np.array(Image.open(file),dtype=np.int32)\n",
    "        imgs[idx,:,:,:]=img    # 데이터 영역에 이미지 행렬을 복사\n",
    "        labels[idx]=0   # 가위 : 0\n",
    "        idx=idx+1\n",
    "\n",
    "    for file in glob.iglob(img_path+'/rock/*.jpg'):\n",
    "        img = np.array(Image.open(file),dtype=np.int32)\n",
    "        imgs[idx,:,:,:]=img    # 데이터 영역에 이미지 행렬을 복사\n",
    "        labels[idx]=1   # 바위 : 1\n",
    "        idx=idx+1  \n",
    "    \n",
    "    for file in glob.iglob(img_path+'/paper/*.jpg'):\n",
    "        img = np.array(Image.open(file),dtype=np.int32)\n",
    "        imgs[idx,:,:,:]=img    # 데이터 영역에 이미지 행렬을 복사\n",
    "        labels[idx]=2   # 보 : 2\n",
    "        idx=idx+1\n",
    "        \n",
    "    print(\"학습데이터(x_train)의 이미지 개수는\", idx,\"입니다.\")\n",
    "    return imgs, labels"
   ]
  },
  {
   "cell_type": "code",
   "execution_count": 29,
   "id": "97cfe641",
   "metadata": {},
   "outputs": [
    {
     "name": "stdout",
     "output_type": "stream",
     "text": [
      "학습데이터(x_train)의 이미지 개수는 300 입니다.\n",
      "x_train shape : (300, 28, 28, 3)\n",
      "y_train shape : (300,)\n"
     ]
    }
   ],
   "source": [
    "image_dir_path = os.getenv(\"HOME\") + '/aiffel/rock_scissor_paper'\n",
    "(x_train,y_train) = load_data(image_dir_path)\n",
    "x_train_norm = x_train / 255.0\n",
    "\n",
    "print(\"x_train shape : {}\".format(x_train.shape))\n",
    "print(\"y_train shape : {}\".format(y_train.shape))"
   ]
  },
  {
   "cell_type": "code",
   "execution_count": 30,
   "id": "9f5e057f",
   "metadata": {},
   "outputs": [
    {
     "name": "stdout",
     "output_type": "stream",
     "text": [
      "라벨 :  0\n"
     ]
    },
    {
     "data": {
      "image/png": "[encoded data removed]",
      "text/plain": [
       "<Figure size 432x288 with 1 Axes>"
      ]
     },
     "metadata": {
      "needs_background": "light"
     },
     "output_type": "display_data"
    }
   ],
   "source": [
    "import matplotlib.pyplot as plt\n",
    "plt.imshow(x_train[0])\n",
    "print(\"라벨 : \",y_train[0])"
   ]
  },
  {
   "cell_type": "code",
   "execution_count": 31,
   "id": "63f03392",
   "metadata": {},
   "outputs": [],
   "source": [
    "import tensorflow as tf\n",
    "from tensorflow import keras\n",
    "import numpy as np"
   ]
  },
  {
   "cell_type": "code",
   "execution_count": 32,
   "id": "43c1e1ab",
   "metadata": {},
   "outputs": [
    {
     "name": "stdout",
     "output_type": "stream",
     "text": [
      "Model에 추가된 Layer 개수:  7\n",
      "Model: \"sequential_1\"\n",
      "_________________________________________________________________\n",
      "Layer (type)                 Output Shape              Param #   \n",
      "=================================================================\n",
      "conv2d_2 (Conv2D)            (None, 26, 26, 16)        448       \n",
      "_________________________________________________________________\n",
      "max_pooling2d_2 (MaxPooling2 (None, 13, 13, 16)        0         \n",
      "_________________________________________________________________\n",
      "conv2d_3 (Conv2D)            (None, 11, 11, 32)        4640      \n",
      "_________________________________________________________________\n",
      "max_pooling2d_3 (MaxPooling2 (None, 5, 5, 32)          0         \n",
      "_________________________________________________________________\n",
      "flatten_1 (Flatten)          (None, 800)               0         \n",
      "_________________________________________________________________\n",
      "dense_2 (Dense)              (None, 32)                25632     \n",
      "_________________________________________________________________\n",
      "dense_3 (Dense)              (None, 3)                 99        \n",
      "=================================================================\n",
      "Total params: 30,819\n",
      "Trainable params: 30,819\n",
      "Non-trainable params: 0\n",
      "_________________________________________________________________\n"
     ]
    }
   ],
   "source": [
    "model=keras.models.Sequential()\n",
    "model.add(keras.layers.Conv2D(16, (3,3), activation='relu', input_shape=(28,28,3)))\n",
    "model.add(keras.layers.MaxPool2D(2,2))\n",
    "model.add(keras.layers.Conv2D(32, (3,3), activation='relu'))\n",
    "model.add(keras.layers.MaxPooling2D((2,2)))\n",
    "model.add(keras.layers.Flatten())\n",
    "model.add(keras.layers.Dense(32, activation='relu'))\n",
    "model.add(keras.layers.Dense(3, activation='softmax'))\n",
    "\n",
    "print('Model에 추가된 Layer 개수: ', len(model.layers))\n",
    "\n",
    "\n",
    "model.summary()"
   ]
  },
  {
   "cell_type": "code",
   "execution_count": 41,
   "id": "7cf7f80b",
   "metadata": {},
   "outputs": [
    {
     "name": "stdout",
     "output_type": "stream",
     "text": [
      "Epoch 1/10\n",
      "10/10 [==============================] - 0s 3ms/step - loss: 0.5618 - accuracy: 0.7833\n",
      "Epoch 2/10\n",
      "10/10 [==============================] - 0s 3ms/step - loss: 0.5094 - accuracy: 0.8567\n",
      "Epoch 3/10\n",
      "10/10 [==============================] - 0s 3ms/step - loss: 0.4670 - accuracy: 0.8600\n",
      "Epoch 4/10\n",
      "10/10 [==============================] - 0s 3ms/step - loss: 0.4775 - accuracy: 0.8167\n",
      "Epoch 5/10\n",
      "10/10 [==============================] - 0s 3ms/step - loss: 0.4136 - accuracy: 0.8767\n",
      "Epoch 6/10\n",
      "10/10 [==============================] - 0s 3ms/step - loss: 0.3864 - accuracy: 0.8933\n",
      "Epoch 7/10\n",
      "10/10 [==============================] - 0s 3ms/step - loss: 0.3705 - accuracy: 0.9000\n",
      "Epoch 8/10\n",
      "10/10 [==============================] - 0s 3ms/step - loss: 0.3590 - accuracy: 0.8967\n",
      "Epoch 9/10\n",
      "10/10 [==============================] - 0s 3ms/step - loss: 0.3615 - accuracy: 0.8700\n",
      "Epoch 10/10\n",
      "10/10 [==============================] - 0s 3ms/step - loss: 0.3624 - accuracy: 0.8700\n"
     ]
    }
   ],
   "source": [
    "model.compile(optimizer='adam',\n",
    "             loss='sparse_categorical_crossentropy',\n",
    "             metrics=['accuracy'])\n",
    "\n",
    "history = model.fit(x_train_norm, y_train, epochs=10)"
   ]
  },
  {
   "cell_type": "markdown",
   "id": "65d932d6",
   "metadata": {},
   "source": [
    "# 테스트 데이터로 성능 확인하기"
   ]
  },
  {
   "cell_type": "markdown",
   "id": "7af0e519",
   "metadata": {},
   "source": [
    "### 테스트 데이터셋 resize 해주기"
   ]
  },
  {
   "cell_type": "code",
   "execution_count": 37,
   "id": "77dd6be0",
   "metadata": {},
   "outputs": [
    {
     "name": "stdout",
     "output_type": "stream",
     "text": [
      "100  images to be resized\n",
      "100  images resized\n",
      "가위 위미지 resize complete!\n",
      "100  images to be resized\n",
      "100  images resized\n",
      "가위 위미지 resize complete!\n",
      "100  images to be resized\n",
      "100  images resized\n",
      "가위 위미지 resize complete!\n"
     ]
    }
   ],
   "source": [
    "# 테스트 데이터로 resize 해주기!\n",
    "\n",
    "image_dir_path = os.getenv(\"HOME\") + '/aiffel/rock_scissor_paper/test/scissor'\n",
    "resize_images(image_dir_path)\n",
    "\n",
    "print(\"가위 위미지 resize complete!\")\n",
    "\n",
    "image_dir_path = os.getenv(\"HOME\") + '/aiffel/rock_scissor_paper/test/paper'\n",
    "resize_images(image_dir_path)\n",
    "\n",
    "print(\"가위 위미지 resize complete!\")\n",
    "\n",
    "image_dir_path = os.getenv(\"HOME\") + '/aiffel/rock_scissor_paper/test/rock'\n",
    "resize_images(image_dir_path)\n",
    "\n",
    "print(\"가위 위미지 resize complete!\")"
   ]
  },
  {
   "cell_type": "markdown",
   "id": "1fbe7f45",
   "metadata": {},
   "source": [
    "### 훈련용 데이터셋 load하기"
   ]
  },
  {
   "cell_type": "code",
   "execution_count": 38,
   "id": "1cb2c92d",
   "metadata": {},
   "outputs": [
    {
     "name": "stdout",
     "output_type": "stream",
     "text": [
      "학습데이터(x_train)의 이미지 개수는 300 입니다.\n",
      "x_train shape : (300, 28, 28, 3)\n",
      "y_train shape : (300,)\n"
     ]
    }
   ],
   "source": [
    "#2. 오버피팅을 극복하기 위한 적절한 시도가 있었는가?\n",
    "# 오버피팅을 막기 위해 0~ 1 사이로 값 조정\n",
    "image_dir_path = os.getenv(\"HOME\") + '/aiffel/rock_scissor_paper/test'\n",
    "(x_test,y_test) = load_data(image_dir_path)\n",
    "x_test_norm = x_train / 255.0\n",
    "\n",
    "print(\"x_train shape : {}\".format(x_train.shape))\n",
    "print(\"y_train shape : {}\".format(y_train.shape))"
   ]
  },
  {
   "cell_type": "code",
   "execution_count": 40,
   "id": "f2da1a34",
   "metadata": {},
   "outputs": [
    {
     "name": "stdout",
     "output_type": "stream",
     "text": [
      "라벨 :  0\n"
     ]
    },
    {
     "data": {
      "image/png": "[encoded data removed]",
      "text/plain": [
       "<Figure size 432x288 with 1 Axes>"
      ]
     },
     "metadata": {
      "needs_background": "light"
     },
     "output_type": "display_data"
    }
   ],
   "source": [
    "plt.imshow(x_test[0])\n",
    "print(\"라벨 : \",y_test[0])"
   ]
  },
  {
   "cell_type": "markdown",
   "id": "040731b2",
   "metadata": {},
   "source": [
    "### 훈련시킨 model을 사용하여 test_accuracy를 측정해 봅시다."
   ]
  },
  {
   "cell_type": "code",
   "execution_count": 42,
   "id": "5c2519a6",
   "metadata": {},
   "outputs": [
    {
     "name": "stdout",
     "output_type": "stream",
     "text": [
      "10/10 - 0s - loss: 0.3393 - accuracy: 0.8800\n",
      "test_loss : 0.3393174409866333\n",
      "test_accuracy : 0.8799999952316284\n"
     ]
    }
   ],
   "source": [
    "#3. 분류모델의 test accuracy가 기준 이상 높게 나왔는가?\n",
    "test_loss, test_accuracy = model.evaluate(x_test_norm,y_test,verbose=2)\n",
    "print(f\"test_loss : {test_loss}\")\n",
    "print(f\"test_accuracy : {test_accuracy}\")"
   ]
  },
  {
   "cell_type": "code",
   "execution_count": 59,
   "id": "67bf5a86",
   "metadata": {},
   "outputs": [
    {
     "data": {
      "image/png": "[encoded data removed]",
      "text/plain": [
       "<Figure size 432x288 with 1 Axes>"
      ]
     },
     "metadata": {
      "needs_background": "light"
     },
     "output_type": "display_data"
    }
   ],
   "source": [
    "#1. 이미지 분류기 모델이 성공적으로 만들어졌는가?\n",
    "# 학습과정이 정상적으로 수행되었으며, \n",
    "#학습 결과에 대한 그래프를 시각화\n",
    "#(ex. train acc / train loss / val acc / val loss 등) 해 보았음\n",
    "plt.plot(history.history['loss'])\n",
    "plt.plot(history.history['accuracy'])\n",
    "plt.xlabel('epoch')\n",
    "plt.legend(['train loss', 'train accuracy'], loc='upper left')\n",
    "plt.show()"
   ]
  }
 ],
 "metadata": {
  "kernelspec": {
   "display_name": "Python 3 (ipykernel)",
   "language": "python",
   "name": "python3"
  },
  "language_info": {
   "codemirror_mode": {
    "name": "ipython",
    "version": 3
   },
   "file_extension": ".py",
   "mimetype": "text/x-python",
   "name": "python",
   "nbconvert_exporter": "python",
   "pygments_lexer": "ipython3",
   "version": "3.9.7"
  }
 },
 "nbformat": 4,
 "nbformat_minor": 5
}
